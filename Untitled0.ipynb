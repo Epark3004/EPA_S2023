{
  "nbformat": 4,
  "nbformat_minor": 0,
  "metadata": {
    "colab": {
      "provenance": [],
      "authorship_tag": "ABX9TyM/TLigMoC/0Rm1b5C9p+N1",
      "include_colab_link": true
    },
    "kernelspec": {
      "name": "python3",
      "display_name": "Python 3"
    },
    "language_info": {
      "name": "python"
    }
  },
  "cells": [
    {
      "cell_type": "markdown",
      "metadata": {
        "id": "view-in-github",
        "colab_type": "text"
      },
      "source": [
        "<a href=\"https://colab.research.google.com/github/Epark3004/EPA_S2023/blob/main/Untitled0.ipynb\" target=\"_parent\"><img src=\"https://colab.research.google.com/assets/colab-badge.svg\" alt=\"Open In Colab\"/></a>"
      ]
    },
    {
      "cell_type": "code",
      "execution_count": null,
      "metadata": {
        "id": "jqg_Jd_FEE5x"
      },
      "outputs": [],
      "source": []
    },
    {
      "cell_type": "markdown",
      "source": [
        "#Copy practice"
      ],
      "metadata": {
        "id": "RPatgvzvEhd0"
      }
    },
    {
      "cell_type": "code",
      "execution_count": 4,
      "metadata": {
        "id": "q6WBYXw7meZQ",
        "colab": {
          "base_uri": "https://localhost:8080/"
        },
        "outputId": "12178ba4-ee49-4d1b-8c5f-1d53d868ca0d"
      },
      "outputs": [
        {
          "output_type": "stream",
          "name": "stdout",
          "text": [
            "Looking in indexes: https://pypi.org/simple, https://us-python.pkg.dev/colab-wheels/public/simple/\n",
            "Requirement already satisfied: gtts in /usr/local/lib/python3.9/dist-packages (2.3.1)\n",
            "Requirement already satisfied: click<8.2,>=7.1 in /usr/local/lib/python3.9/dist-packages (from gtts) (8.1.3)\n",
            "Requirement already satisfied: requests<3,>=2.27 in /usr/local/lib/python3.9/dist-packages (from gtts) (2.27.1)\n",
            "Requirement already satisfied: certifi>=2017.4.17 in /usr/local/lib/python3.9/dist-packages (from requests<3,>=2.27->gtts) (2022.12.7)\n",
            "Requirement already satisfied: charset-normalizer~=2.0.0 in /usr/local/lib/python3.9/dist-packages (from requests<3,>=2.27->gtts) (2.0.12)\n",
            "Requirement already satisfied: idna<4,>=2.5 in /usr/local/lib/python3.9/dist-packages (from requests<3,>=2.27->gtts) (3.4)\n",
            "Requirement already satisfied: urllib3<1.27,>=1.21.1 in /usr/local/lib/python3.9/dist-packages (from requests<3,>=2.27->gtts) (1.26.15)\n"
          ]
        }
      ],
      "source": [
        "\n",
        "!pip install gtts\n",
        "from gtts import gTTS\n",
        "from IPython.display import Audio, display\n",
        "import pandas as pd"
      ]
    },
    {
      "cell_type": "code",
      "source": [
        "#@markdown Define ktts(), etts()\n",
        "def etts(txt):\n",
        "  tts = gTTS(txt, lang='en')\n",
        "  tts.save(\"E-audio.mp3\")\n",
        "  return Audio(\"/content/E-audio.mp3\")\n",
        "\n",
        "def ktts(txt):\n",
        "  tts = gTTS(txt, lang='ko')\n",
        "  tts.save(\"K-audio.mp3\")\n",
        "  return Audio(\"/content/K-audio.mp3\")"
      ],
      "metadata": {
        "id": "Om9NsxFlEasT"
      },
      "execution_count": 5,
      "outputs": []
    },
    {
      "cell_type": "code",
      "source": [
        "#@markdown Read csv file\n",
        "url = \"https://raw.githubusercontent.com/MK316/workspace/main/ASR01/data/rainbow_bysentence.csv\"\n",
        "df = pd.read_csv(url)\n",
        "df.head()"
      ],
      "metadata": {
        "colab": {
          "base_uri": "https://localhost:8080/",
          "height": 206
        },
        "id": "-SC99iYSEy9U",
        "outputId": "1bc70458-e406-4090-f176-9d836d2e7c87"
      },
      "execution_count": 6,
      "outputs": [
        {
          "output_type": "execute_result",
          "data": {
            "text/plain": [
              "   SN                                           Sentence\n",
              "0  S1  When the sunlight strikes raindrops in the air...\n",
              "1  S2  The rainbow is a division of white light into ...\n",
              "2  S3  These take the shape of a long round arch, wit...\n",
              "3  S4  There is, according to legend, a boiling pot o...\n",
              "4  S5             People look, but no one ever finds it."
            ],
            "text/html": [
              "\n",
              "  <div id=\"df-a19d29b7-db1c-4457-82e3-3366eafdb158\">\n",
              "    <div class=\"colab-df-container\">\n",
              "      <div>\n",
              "<style scoped>\n",
              "    .dataframe tbody tr th:only-of-type {\n",
              "        vertical-align: middle;\n",
              "    }\n",
              "\n",
              "    .dataframe tbody tr th {\n",
              "        vertical-align: top;\n",
              "    }\n",
              "\n",
              "    .dataframe thead th {\n",
              "        text-align: right;\n",
              "    }\n",
              "</style>\n",
              "<table border=\"1\" class=\"dataframe\">\n",
              "  <thead>\n",
              "    <tr style=\"text-align: right;\">\n",
              "      <th></th>\n",
              "      <th>SN</th>\n",
              "      <th>Sentence</th>\n",
              "    </tr>\n",
              "  </thead>\n",
              "  <tbody>\n",
              "    <tr>\n",
              "      <th>0</th>\n",
              "      <td>S1</td>\n",
              "      <td>When the sunlight strikes raindrops in the air...</td>\n",
              "    </tr>\n",
              "    <tr>\n",
              "      <th>1</th>\n",
              "      <td>S2</td>\n",
              "      <td>The rainbow is a division of white light into ...</td>\n",
              "    </tr>\n",
              "    <tr>\n",
              "      <th>2</th>\n",
              "      <td>S3</td>\n",
              "      <td>These take the shape of a long round arch, wit...</td>\n",
              "    </tr>\n",
              "    <tr>\n",
              "      <th>3</th>\n",
              "      <td>S4</td>\n",
              "      <td>There is, according to legend, a boiling pot o...</td>\n",
              "    </tr>\n",
              "    <tr>\n",
              "      <th>4</th>\n",
              "      <td>S5</td>\n",
              "      <td>People look, but no one ever finds it.</td>\n",
              "    </tr>\n",
              "  </tbody>\n",
              "</table>\n",
              "</div>\n",
              "      <button class=\"colab-df-convert\" onclick=\"convertToInteractive('df-a19d29b7-db1c-4457-82e3-3366eafdb158')\"\n",
              "              title=\"Convert this dataframe to an interactive table.\"\n",
              "              style=\"display:none;\">\n",
              "        \n",
              "  <svg xmlns=\"http://www.w3.org/2000/svg\" height=\"24px\"viewBox=\"0 0 24 24\"\n",
              "       width=\"24px\">\n",
              "    <path d=\"M0 0h24v24H0V0z\" fill=\"none\"/>\n",
              "    <path d=\"M18.56 5.44l.94 2.06.94-2.06 2.06-.94-2.06-.94-.94-2.06-.94 2.06-2.06.94zm-11 1L8.5 8.5l.94-2.06 2.06-.94-2.06-.94L8.5 2.5l-.94 2.06-2.06.94zm10 10l.94 2.06.94-2.06 2.06-.94-2.06-.94-.94-2.06-.94 2.06-2.06.94z\"/><path d=\"M17.41 7.96l-1.37-1.37c-.4-.4-.92-.59-1.43-.59-.52 0-1.04.2-1.43.59L10.3 9.45l-7.72 7.72c-.78.78-.78 2.05 0 2.83L4 21.41c.39.39.9.59 1.41.59.51 0 1.02-.2 1.41-.59l7.78-7.78 2.81-2.81c.8-.78.8-2.07 0-2.86zM5.41 20L4 18.59l7.72-7.72 1.47 1.35L5.41 20z\"/>\n",
              "  </svg>\n",
              "      </button>\n",
              "      \n",
              "  <style>\n",
              "    .colab-df-container {\n",
              "      display:flex;\n",
              "      flex-wrap:wrap;\n",
              "      gap: 12px;\n",
              "    }\n",
              "\n",
              "    .colab-df-convert {\n",
              "      background-color: #E8F0FE;\n",
              "      border: none;\n",
              "      border-radius: 50%;\n",
              "      cursor: pointer;\n",
              "      display: none;\n",
              "      fill: #1967D2;\n",
              "      height: 32px;\n",
              "      padding: 0 0 0 0;\n",
              "      width: 32px;\n",
              "    }\n",
              "\n",
              "    .colab-df-convert:hover {\n",
              "      background-color: #E2EBFA;\n",
              "      box-shadow: 0px 1px 2px rgba(60, 64, 67, 0.3), 0px 1px 3px 1px rgba(60, 64, 67, 0.15);\n",
              "      fill: #174EA6;\n",
              "    }\n",
              "\n",
              "    [theme=dark] .colab-df-convert {\n",
              "      background-color: #3B4455;\n",
              "      fill: #D2E3FC;\n",
              "    }\n",
              "\n",
              "    [theme=dark] .colab-df-convert:hover {\n",
              "      background-color: #434B5C;\n",
              "      box-shadow: 0px 1px 3px 1px rgba(0, 0, 0, 0.15);\n",
              "      filter: drop-shadow(0px 1px 2px rgba(0, 0, 0, 0.3));\n",
              "      fill: #FFFFFF;\n",
              "    }\n",
              "  </style>\n",
              "\n",
              "      <script>\n",
              "        const buttonEl =\n",
              "          document.querySelector('#df-a19d29b7-db1c-4457-82e3-3366eafdb158 button.colab-df-convert');\n",
              "        buttonEl.style.display =\n",
              "          google.colab.kernel.accessAllowed ? 'block' : 'none';\n",
              "\n",
              "        async function convertToInteractive(key) {\n",
              "          const element = document.querySelector('#df-a19d29b7-db1c-4457-82e3-3366eafdb158');\n",
              "          const dataTable =\n",
              "            await google.colab.kernel.invokeFunction('convertToInteractive',\n",
              "                                                     [key], {});\n",
              "          if (!dataTable) return;\n",
              "\n",
              "          const docLinkHtml = 'Like what you see? Visit the ' +\n",
              "            '<a target=\"_blank\" href=https://colab.research.google.com/notebooks/data_table.ipynb>data table notebook</a>'\n",
              "            + ' to learn more about interactive tables.';\n",
              "          element.innerHTML = '';\n",
              "          dataTable['output_type'] = 'display_data';\n",
              "          await google.colab.output.renderOutput(dataTable, element);\n",
              "          const docLink = document.createElement('div');\n",
              "          docLink.innerHTML = docLinkHtml;\n",
              "          element.appendChild(docLink);\n",
              "        }\n",
              "      </script>\n",
              "    </div>\n",
              "  </div>\n",
              "  "
            ]
          },
          "metadata": {},
          "execution_count": 6
        }
      ]
    },
    {
      "cell_type": "code",
      "source": [
        "#@markdown Rainbow sentences (autoplay on)\n",
        "Sentence = \"1\" #@param = [1, 2, 3, 4, 5, 6, 7, 8, 9, 10, 11, 12, 13, 14, 15, 16, 17, 18, 19]\n",
        "sn = int(Sentence)\n",
        "\n",
        "txt = df['Sentence'][sn-1]\n",
        "etts(txt)\n",
        "Audio(\"E-audio.mp3\", autoplay = True)"
      ],
      "metadata": {
        "colab": {
          "base_uri": "https://localhost:8080/",
          "height": 74
        },
        "id": "ge4inHIJE-qs",
        "outputId": "8661b3e0-35b7-4ef2-eb52-2b744febe33f"
      },
      "execution_count": 7,
      "outputs": [
        {
          "output_type": "execute_result",
          "data": {
            "text/plain": [
              "<IPython.lib.display.Audio object>"
            ],
            "text/html": [
              "\n",
              "                <audio  controls=\"controls\" autoplay=\"autoplay\">\n",
              "                    <source src=\"data:audio/mpeg;base64,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\" type=\"audio/mpeg\" />\n",
              "                    Your browser does not support the audio element.\n",
              "                </audio>\n",
              "              "
            ]
          },
          "metadata": {},
          "execution_count": 7
        }
      ]
    }
  ]
}